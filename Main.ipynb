{
  "nbformat": 4,
  "nbformat_minor": 0,
  "metadata": {
    "kernelspec": {
      "display_name": "Python 3",
      "language": "python",
      "name": "python3"
    },
    "language_info": {
      "codemirror_mode": {
        "name": "ipython",
        "version": 3
      },
      "file_extension": ".py",
      "mimetype": "text/x-python",
      "name": "python",
      "nbconvert_exporter": "python",
      "pygments_lexer": "ipython3",
      "version": "3.8.5"
    },
    "colab": {
      "name": "TCS-iON-2nd interim.ipynb",
      "provenance": [],
      "collapsed_sections": []
    }
  },
  "cells": [
    {
      "cell_type": "markdown",
      "metadata": {
        "id": "CM-1-1KC4eD9"
      },
      "source": [
        "[![Open In Colab](https://colab.research.google.com/assets/colab-badge.svg)](https://colab.research.google.com/drive/1vxGBnzT5MN0sLTNDjuhMfClvmSMWZD15?usp=sharing)\n",
        "\n",
        "[![View Source on GitHub](https://img.shields.io/badge/github-view%20source-black.svg)](https://github.com/Rithik-Alias/Salary-prediction-dashboard)"
      ]
    },
    {
      "cell_type": "markdown",
      "metadata": {
        "id": "9ypqn7y1cUJ2"
      },
      "source": [
        "**Imported necessary libraries and dataset**"
      ]
    },
    {
      "cell_type": "code",
      "metadata": {
        "colab": {
          "base_uri": "https://localhost:8080/"
        },
        "id": "U1HED4FKZQmw",
        "outputId": "9f4c0480-ddec-4d8e-a00c-99d70c3fabca"
      },
      "source": [
        "#coloned the git repository\n",
        "!git clone --recursive https://github.com/Rithik-Alias/Salary-prediction-dashboard.git\n",
        "%cd /content/Salary-prediction-dashboard"
      ],
      "execution_count": 1,
      "outputs": [
        {
          "output_type": "stream",
          "text": [
            "fatal: destination path 'Salary-prediction-dashboard' already exists and is not an empty directory.\n",
            "/content/Salary-prediction-dashboard\n"
          ],
          "name": "stdout"
        }
      ]
    },
    {
      "cell_type": "code",
      "metadata": {
        "id": "xzuAOWt1Uolv"
      },
      "source": [
        "#import necessary libraries\n",
        "import pandas as pd\n",
        "import numpy as np\n",
        "import matplotlib.pyplot as plt\n",
        "from sklearn.model_selection import train_test_split\n",
        "from sklearn.metrics import classification_report\n",
        "from sklearn.linear_model import LogisticRegression\n",
        "from sklearn.preprocessing import StandardScaler"
      ],
      "execution_count": 2,
      "outputs": []
    },
    {
      "cell_type": "code",
      "metadata": {
        "id": "ccCa-7-OUol0",
        "colab": {
          "base_uri": "https://localhost:8080/",
          "height": 195
        },
        "outputId": "4a527511-3b7e-4501-c578-338ecfa81f0e"
      },
      "source": [
        "#imported the dataset\n",
        "file = pd.read_csv('salarydata.csv')\n",
        "file.head()"
      ],
      "execution_count": 3,
      "outputs": [
        {
          "output_type": "execute_result",
          "data": {
            "text/html": [
              "<div>\n",
              "<style scoped>\n",
              "    .dataframe tbody tr th:only-of-type {\n",
              "        vertical-align: middle;\n",
              "    }\n",
              "\n",
              "    .dataframe tbody tr th {\n",
              "        vertical-align: top;\n",
              "    }\n",
              "\n",
              "    .dataframe thead th {\n",
              "        text-align: right;\n",
              "    }\n",
              "</style>\n",
              "<table border=\"1\" class=\"dataframe\">\n",
              "  <thead>\n",
              "    <tr style=\"text-align: right;\">\n",
              "      <th></th>\n",
              "      <th>age</th>\n",
              "      <th>workclass</th>\n",
              "      <th>education</th>\n",
              "      <th>education-num</th>\n",
              "      <th>marital-status</th>\n",
              "      <th>occupation</th>\n",
              "      <th>relationship</th>\n",
              "      <th>race</th>\n",
              "      <th>sex</th>\n",
              "      <th>capital-gain</th>\n",
              "      <th>capital-loss</th>\n",
              "      <th>hours-per-week</th>\n",
              "      <th>native-country</th>\n",
              "      <th>salary</th>\n",
              "    </tr>\n",
              "  </thead>\n",
              "  <tbody>\n",
              "    <tr>\n",
              "      <th>0</th>\n",
              "      <td>39</td>\n",
              "      <td>State-gov</td>\n",
              "      <td>Bachelors</td>\n",
              "      <td>13</td>\n",
              "      <td>Never-married</td>\n",
              "      <td>Adm-clerical</td>\n",
              "      <td>Not-in-family</td>\n",
              "      <td>White</td>\n",
              "      <td>Male</td>\n",
              "      <td>2174</td>\n",
              "      <td>0</td>\n",
              "      <td>40</td>\n",
              "      <td>United-States</td>\n",
              "      <td>&lt;=50K</td>\n",
              "    </tr>\n",
              "    <tr>\n",
              "      <th>1</th>\n",
              "      <td>50</td>\n",
              "      <td>Self-emp-not-inc</td>\n",
              "      <td>Bachelors</td>\n",
              "      <td>13</td>\n",
              "      <td>Married-civ-spouse</td>\n",
              "      <td>Exec-managerial</td>\n",
              "      <td>Husband</td>\n",
              "      <td>White</td>\n",
              "      <td>Male</td>\n",
              "      <td>0</td>\n",
              "      <td>0</td>\n",
              "      <td>13</td>\n",
              "      <td>United-States</td>\n",
              "      <td>&lt;=50K</td>\n",
              "    </tr>\n",
              "    <tr>\n",
              "      <th>2</th>\n",
              "      <td>38</td>\n",
              "      <td>Private</td>\n",
              "      <td>HS-grad</td>\n",
              "      <td>9</td>\n",
              "      <td>Divorced</td>\n",
              "      <td>Handlers-cleaners</td>\n",
              "      <td>Not-in-family</td>\n",
              "      <td>White</td>\n",
              "      <td>Male</td>\n",
              "      <td>0</td>\n",
              "      <td>0</td>\n",
              "      <td>40</td>\n",
              "      <td>United-States</td>\n",
              "      <td>&lt;=50K</td>\n",
              "    </tr>\n",
              "    <tr>\n",
              "      <th>3</th>\n",
              "      <td>53</td>\n",
              "      <td>Private</td>\n",
              "      <td>11th</td>\n",
              "      <td>7</td>\n",
              "      <td>Married-civ-spouse</td>\n",
              "      <td>Handlers-cleaners</td>\n",
              "      <td>Husband</td>\n",
              "      <td>Black</td>\n",
              "      <td>Male</td>\n",
              "      <td>0</td>\n",
              "      <td>0</td>\n",
              "      <td>40</td>\n",
              "      <td>United-States</td>\n",
              "      <td>&lt;=50K</td>\n",
              "    </tr>\n",
              "    <tr>\n",
              "      <th>4</th>\n",
              "      <td>28</td>\n",
              "      <td>Private</td>\n",
              "      <td>Bachelors</td>\n",
              "      <td>13</td>\n",
              "      <td>Married-civ-spouse</td>\n",
              "      <td>Prof-specialty</td>\n",
              "      <td>Wife</td>\n",
              "      <td>Black</td>\n",
              "      <td>Female</td>\n",
              "      <td>0</td>\n",
              "      <td>0</td>\n",
              "      <td>40</td>\n",
              "      <td>Cuba</td>\n",
              "      <td>&lt;=50K</td>\n",
              "    </tr>\n",
              "  </tbody>\n",
              "</table>\n",
              "</div>"
            ],
            "text/plain": [
              "   age         workclass  education  ...  hours-per-week native-country salary\n",
              "0   39         State-gov  Bachelors  ...              40  United-States  <=50K\n",
              "1   50  Self-emp-not-inc  Bachelors  ...              13  United-States  <=50K\n",
              "2   38           Private    HS-grad  ...              40  United-States  <=50K\n",
              "3   53           Private       11th  ...              40  United-States  <=50K\n",
              "4   28           Private  Bachelors  ...              40           Cuba  <=50K\n",
              "\n",
              "[5 rows x 14 columns]"
            ]
          },
          "metadata": {
            "tags": []
          },
          "execution_count": 3
        }
      ]
    },
    {
      "cell_type": "markdown",
      "metadata": {
        "id": "cp9FABtbce8L"
      },
      "source": [
        "**Cleansing and sanitization of the dataset**"
      ]
    },
    {
      "cell_type": "code",
      "metadata": {
        "id": "r-9lTYD6Uol1",
        "colab": {
          "base_uri": "https://localhost:8080/"
        },
        "outputId": "fdebec1a-64c2-451d-a53c-55799e71c137"
      },
      "source": [
        "#checked if there is any null value in the dataset\n",
        "file.isnull().sum()  #we can see that there is no null values in the data set"
      ],
      "execution_count": 4,
      "outputs": [
        {
          "output_type": "execute_result",
          "data": {
            "text/plain": [
              "age               0\n",
              "workclass         0\n",
              "education         0\n",
              "education-num     0\n",
              "marital-status    0\n",
              "occupation        0\n",
              "relationship      0\n",
              "race              0\n",
              "sex               0\n",
              "capital-gain      0\n",
              "capital-loss      0\n",
              "hours-per-week    0\n",
              "native-country    0\n",
              "salary            0\n",
              "dtype: int64"
            ]
          },
          "metadata": {
            "tags": []
          },
          "execution_count": 4
        }
      ]
    },
    {
      "cell_type": "code",
      "metadata": {
        "id": "UT4_KV-wUol2",
        "colab": {
          "base_uri": "https://localhost:8080/"
        },
        "outputId": "68700f82-7111-49cd-da4c-e13a1746d483"
      },
      "source": [
        "file['workclass'].unique()\n",
        "#values in the attribute work-class"
      ],
      "execution_count": 5,
      "outputs": [
        {
          "output_type": "execute_result",
          "data": {
            "text/plain": [
              "array(['State-gov', 'Self-emp-not-inc', 'Private', 'Federal-gov',\n",
              "       'Local-gov', '?', 'Self-emp-inc', 'Without-pay', 'Never-worked'],\n",
              "      dtype=object)"
            ]
          },
          "metadata": {
            "tags": []
          },
          "execution_count": 5
        }
      ]
    },
    {
      "cell_type": "code",
      "metadata": {
        "id": "MkVq2z-aUol2"
      },
      "source": [
        "#we can see that there is a '?' in the set of values\n",
        "file.loc[file['workclass'] == '?', 'workclass'] = 'Unknown'\n",
        "#changed '?' into 'Unknown'"
      ],
      "execution_count": 6,
      "outputs": []
    },
    {
      "cell_type": "code",
      "metadata": {
        "id": "p54-vi-xUol2",
        "colab": {
          "base_uri": "https://localhost:8080/"
        },
        "outputId": "e62fdd20-1302-463c-9a1a-adeefdad9485"
      },
      "source": [
        "file['occupation'].unique()\n",
        "#values in the attribute occupation"
      ],
      "execution_count": 7,
      "outputs": [
        {
          "output_type": "execute_result",
          "data": {
            "text/plain": [
              "array(['Adm-clerical', 'Exec-managerial', 'Handlers-cleaners',\n",
              "       'Prof-specialty', 'Other-service', 'Sales', 'Craft-repair',\n",
              "       'Transport-moving', 'Farming-fishing', 'Machine-op-inspct',\n",
              "       'Tech-support', '?', 'Protective-serv', 'Armed-Forces',\n",
              "       'Priv-house-serv'], dtype=object)"
            ]
          },
          "metadata": {
            "tags": []
          },
          "execution_count": 7
        }
      ]
    },
    {
      "cell_type": "code",
      "metadata": {
        "id": "lRfwNg5cUol3"
      },
      "source": [
        "#we can see that there is a '?' in the set of values\n",
        "file.loc[file['occupation'] == '?', 'occupation'] = 'Unknown'\n",
        "#changed '?' into 'Unknown'"
      ],
      "execution_count": 8,
      "outputs": []
    },
    {
      "cell_type": "code",
      "metadata": {
        "id": "Pkwml7o0Uol3",
        "colab": {
          "base_uri": "https://localhost:8080/"
        },
        "outputId": "acc15ee7-0f29-471d-aa75-a07d43441cd5"
      },
      "source": [
        "file['native-country'].unique()\n",
        "#values in the attribute native-country"
      ],
      "execution_count": 9,
      "outputs": [
        {
          "output_type": "execute_result",
          "data": {
            "text/plain": [
              "array(['United-States', 'Cuba', 'Jamaica', 'India', '?', 'Mexico',\n",
              "       'South', 'Puerto-Rico', 'Honduras', 'England', 'Canada', 'Germany',\n",
              "       'Iran', 'Philippines', 'Italy', 'Poland', 'Columbia', 'Cambodia',\n",
              "       'Thailand', 'Ecuador', 'Laos', 'Taiwan', 'Haiti', 'Portugal',\n",
              "       'Dominican-Republic', 'El-Salvador', 'France', 'Guatemala',\n",
              "       'China', 'Japan', 'Yugoslavia', 'Peru',\n",
              "       'Outlying-US(Guam-USVI-etc)', 'Scotland', 'Trinadad&Tobago',\n",
              "       'Greece', 'Nicaragua', 'Vietnam', 'Hong', 'Ireland', 'Hungary',\n",
              "       'Holand-Netherlands'], dtype=object)"
            ]
          },
          "metadata": {
            "tags": []
          },
          "execution_count": 9
        }
      ]
    },
    {
      "cell_type": "code",
      "metadata": {
        "id": "wsYWQF0VUol3"
      },
      "source": [
        "#we can see that there is a '?' in the set of values\n",
        "file.loc[file['native-country'] == '?', 'native-country'] = 'Unknown'\n",
        "#changed '?' into 'Unknown'"
      ],
      "execution_count": 10,
      "outputs": []
    },
    {
      "cell_type": "code",
      "metadata": {
        "id": "F15w-Hk3Uol4",
        "colab": {
          "base_uri": "https://localhost:8080/",
          "height": 402
        },
        "outputId": "fb0521cf-56d8-4c16-a307-1ce19a6b4813"
      },
      "source": [
        "file = file.drop(columns = ['capital-gain', 'capital-loss', 'education-num'])\n",
        "#unnecessary since its something that happens after salary is given.\n",
        "file"
      ],
      "execution_count": 11,
      "outputs": [
        {
          "output_type": "execute_result",
          "data": {
            "text/html": [
              "<div>\n",
              "<style scoped>\n",
              "    .dataframe tbody tr th:only-of-type {\n",
              "        vertical-align: middle;\n",
              "    }\n",
              "\n",
              "    .dataframe tbody tr th {\n",
              "        vertical-align: top;\n",
              "    }\n",
              "\n",
              "    .dataframe thead th {\n",
              "        text-align: right;\n",
              "    }\n",
              "</style>\n",
              "<table border=\"1\" class=\"dataframe\">\n",
              "  <thead>\n",
              "    <tr style=\"text-align: right;\">\n",
              "      <th></th>\n",
              "      <th>age</th>\n",
              "      <th>workclass</th>\n",
              "      <th>education</th>\n",
              "      <th>marital-status</th>\n",
              "      <th>occupation</th>\n",
              "      <th>relationship</th>\n",
              "      <th>race</th>\n",
              "      <th>sex</th>\n",
              "      <th>hours-per-week</th>\n",
              "      <th>native-country</th>\n",
              "      <th>salary</th>\n",
              "    </tr>\n",
              "  </thead>\n",
              "  <tbody>\n",
              "    <tr>\n",
              "      <th>0</th>\n",
              "      <td>39</td>\n",
              "      <td>State-gov</td>\n",
              "      <td>Bachelors</td>\n",
              "      <td>Never-married</td>\n",
              "      <td>Adm-clerical</td>\n",
              "      <td>Not-in-family</td>\n",
              "      <td>White</td>\n",
              "      <td>Male</td>\n",
              "      <td>40</td>\n",
              "      <td>United-States</td>\n",
              "      <td>&lt;=50K</td>\n",
              "    </tr>\n",
              "    <tr>\n",
              "      <th>1</th>\n",
              "      <td>50</td>\n",
              "      <td>Self-emp-not-inc</td>\n",
              "      <td>Bachelors</td>\n",
              "      <td>Married-civ-spouse</td>\n",
              "      <td>Exec-managerial</td>\n",
              "      <td>Husband</td>\n",
              "      <td>White</td>\n",
              "      <td>Male</td>\n",
              "      <td>13</td>\n",
              "      <td>United-States</td>\n",
              "      <td>&lt;=50K</td>\n",
              "    </tr>\n",
              "    <tr>\n",
              "      <th>2</th>\n",
              "      <td>38</td>\n",
              "      <td>Private</td>\n",
              "      <td>HS-grad</td>\n",
              "      <td>Divorced</td>\n",
              "      <td>Handlers-cleaners</td>\n",
              "      <td>Not-in-family</td>\n",
              "      <td>White</td>\n",
              "      <td>Male</td>\n",
              "      <td>40</td>\n",
              "      <td>United-States</td>\n",
              "      <td>&lt;=50K</td>\n",
              "    </tr>\n",
              "    <tr>\n",
              "      <th>3</th>\n",
              "      <td>53</td>\n",
              "      <td>Private</td>\n",
              "      <td>11th</td>\n",
              "      <td>Married-civ-spouse</td>\n",
              "      <td>Handlers-cleaners</td>\n",
              "      <td>Husband</td>\n",
              "      <td>Black</td>\n",
              "      <td>Male</td>\n",
              "      <td>40</td>\n",
              "      <td>United-States</td>\n",
              "      <td>&lt;=50K</td>\n",
              "    </tr>\n",
              "    <tr>\n",
              "      <th>4</th>\n",
              "      <td>28</td>\n",
              "      <td>Private</td>\n",
              "      <td>Bachelors</td>\n",
              "      <td>Married-civ-spouse</td>\n",
              "      <td>Prof-specialty</td>\n",
              "      <td>Wife</td>\n",
              "      <td>Black</td>\n",
              "      <td>Female</td>\n",
              "      <td>40</td>\n",
              "      <td>Cuba</td>\n",
              "      <td>&lt;=50K</td>\n",
              "    </tr>\n",
              "    <tr>\n",
              "      <th>...</th>\n",
              "      <td>...</td>\n",
              "      <td>...</td>\n",
              "      <td>...</td>\n",
              "      <td>...</td>\n",
              "      <td>...</td>\n",
              "      <td>...</td>\n",
              "      <td>...</td>\n",
              "      <td>...</td>\n",
              "      <td>...</td>\n",
              "      <td>...</td>\n",
              "      <td>...</td>\n",
              "    </tr>\n",
              "    <tr>\n",
              "      <th>32556</th>\n",
              "      <td>27</td>\n",
              "      <td>Private</td>\n",
              "      <td>Assoc-acdm</td>\n",
              "      <td>Married-civ-spouse</td>\n",
              "      <td>Tech-support</td>\n",
              "      <td>Wife</td>\n",
              "      <td>White</td>\n",
              "      <td>Female</td>\n",
              "      <td>38</td>\n",
              "      <td>United-States</td>\n",
              "      <td>&lt;=50K</td>\n",
              "    </tr>\n",
              "    <tr>\n",
              "      <th>32557</th>\n",
              "      <td>40</td>\n",
              "      <td>Private</td>\n",
              "      <td>HS-grad</td>\n",
              "      <td>Married-civ-spouse</td>\n",
              "      <td>Machine-op-inspct</td>\n",
              "      <td>Husband</td>\n",
              "      <td>White</td>\n",
              "      <td>Male</td>\n",
              "      <td>40</td>\n",
              "      <td>United-States</td>\n",
              "      <td>&gt;50K</td>\n",
              "    </tr>\n",
              "    <tr>\n",
              "      <th>32558</th>\n",
              "      <td>58</td>\n",
              "      <td>Private</td>\n",
              "      <td>HS-grad</td>\n",
              "      <td>Widowed</td>\n",
              "      <td>Adm-clerical</td>\n",
              "      <td>Unmarried</td>\n",
              "      <td>White</td>\n",
              "      <td>Female</td>\n",
              "      <td>40</td>\n",
              "      <td>United-States</td>\n",
              "      <td>&lt;=50K</td>\n",
              "    </tr>\n",
              "    <tr>\n",
              "      <th>32559</th>\n",
              "      <td>22</td>\n",
              "      <td>Private</td>\n",
              "      <td>HS-grad</td>\n",
              "      <td>Never-married</td>\n",
              "      <td>Adm-clerical</td>\n",
              "      <td>Own-child</td>\n",
              "      <td>White</td>\n",
              "      <td>Male</td>\n",
              "      <td>20</td>\n",
              "      <td>United-States</td>\n",
              "      <td>&lt;=50K</td>\n",
              "    </tr>\n",
              "    <tr>\n",
              "      <th>32560</th>\n",
              "      <td>52</td>\n",
              "      <td>Self-emp-inc</td>\n",
              "      <td>HS-grad</td>\n",
              "      <td>Married-civ-spouse</td>\n",
              "      <td>Exec-managerial</td>\n",
              "      <td>Wife</td>\n",
              "      <td>White</td>\n",
              "      <td>Female</td>\n",
              "      <td>40</td>\n",
              "      <td>United-States</td>\n",
              "      <td>&gt;50K</td>\n",
              "    </tr>\n",
              "  </tbody>\n",
              "</table>\n",
              "<p>32561 rows × 11 columns</p>\n",
              "</div>"
            ],
            "text/plain": [
              "       age         workclass   education  ... hours-per-week native-country salary\n",
              "0       39         State-gov   Bachelors  ...             40  United-States  <=50K\n",
              "1       50  Self-emp-not-inc   Bachelors  ...             13  United-States  <=50K\n",
              "2       38           Private     HS-grad  ...             40  United-States  <=50K\n",
              "3       53           Private        11th  ...             40  United-States  <=50K\n",
              "4       28           Private   Bachelors  ...             40           Cuba  <=50K\n",
              "...    ...               ...         ...  ...            ...            ...    ...\n",
              "32556   27           Private  Assoc-acdm  ...             38  United-States  <=50K\n",
              "32557   40           Private     HS-grad  ...             40  United-States   >50K\n",
              "32558   58           Private     HS-grad  ...             40  United-States  <=50K\n",
              "32559   22           Private     HS-grad  ...             20  United-States  <=50K\n",
              "32560   52      Self-emp-inc     HS-grad  ...             40  United-States   >50K\n",
              "\n",
              "[32561 rows x 11 columns]"
            ]
          },
          "metadata": {
            "tags": []
          },
          "execution_count": 11
        }
      ]
    },
    {
      "cell_type": "markdown",
      "metadata": {
        "id": "mPnOiCztc1C8"
      },
      "source": [
        "**Visualization of the data set**"
      ]
    },
    {
      "cell_type": "code",
      "metadata": {
        "colab": {
          "base_uri": "https://localhost:8080/",
          "height": 295
        },
        "id": "lVga3-YBcq5Y",
        "outputId": "d898e707-dae2-4f27-8db3-ba82d25d6505"
      },
      "source": [
        "plt.hist(file['age'])\n",
        "plt.title('Age distribution')\n",
        "plt.rcParams['figure.figsize'] = (9,4)\n",
        "plt.xlabel('Age')\n",
        "plt.ylabel('Count')\n",
        "plt.xticks(np.arange(20,100,5))\n",
        "plt.show()"
      ],
      "execution_count": 12,
      "outputs": [
        {
          "output_type": "display_data",
          "data": {
            "image/png": "[encoded data removed]",
            "text/plain": [
              "<Figure size 432x288 with 1 Axes>"
            ]
          },
          "metadata": {
            "tags": [],
            "needs_background": "light"
          }
        }
      ]
    },
    {
      "cell_type": "code",
      "metadata": {
        "id": "fiP4JMrjWAr4",
        "colab": {
          "base_uri": "https://localhost:8080/",
          "height": 437
        },
        "outputId": "c205630e-420d-4b1c-d8ed-4d119948035f"
      },
      "source": [
        "file['workclass'].value_counts().plot(kind = 'pie')\n",
        "plt.rcParams['figure.figsize'] = (7,10)\n",
        "plt.title('Work Class')\n",
        "plt.show()"
      ],
      "execution_count": 36,
      "outputs": [
        {
          "output_type": "display_data",
          "data": {
            "image/png": "[encoded data removed]",
            "text/plain": [
              "<Figure size 504x720 with 1 Axes>"
            ]
          },
          "metadata": {
            "tags": []
          }
        }
      ]
    },
    {
      "cell_type": "code",
      "metadata": {
        "colab": {
          "base_uri": "https://localhost:8080/",
          "height": 407
        },
        "id": "JhRF3h2Qepco",
        "outputId": "e7a96b9a-1f35-450c-e3b5-9db4aebeac99"
      },
      "source": [
        "file['education'].value_counts().plot(kind = 'bar')\n",
        "plt.rcParams['figure.figsize'] = (9,5)\n",
        "plt.xlabel('Education level')\n",
        "plt.ylabel('People')\n",
        "plt.title('Education')\n",
        "plt.grid()\n",
        "plt.show()"
      ],
      "execution_count": 34,
      "outputs": [
        {
          "output_type": "display_data",
          "data": {
            "image/png": "[encoded data removed]",
            "text/plain": [
              "<Figure size 648x360 with 1 Axes>"
            ]
          },
          "metadata": {
            "tags": [],
            "needs_background": "light"
          }
        }
      ]
    },
    {
      "cell_type": "code",
      "metadata": {
        "colab": {
          "base_uri": "https://localhost:8080/",
          "height": 437
        },
        "id": "ketKUMsjhjA5",
        "outputId": "b424dc4f-3a9d-493b-812d-50876f97032d"
      },
      "source": [
        "file['marital-status'].value_counts().plot(kind = 'pie')\n",
        "plt.rcParams['figure.figsize'] = (7,10)\n",
        "plt.title('Marital Status')\n",
        "plt.show()"
      ],
      "execution_count": 32,
      "outputs": [
        {
          "output_type": "display_data",
          "data": {
            "image/png": "[encoded data removed]",
            "text/plain": [
              "<Figure size 504x720 with 1 Axes>"
            ]
          },
          "metadata": {
            "tags": []
          }
        }
      ]
    },
    {
      "cell_type": "code",
      "metadata": {
        "colab": {
          "base_uri": "https://localhost:8080/",
          "height": 377
        },
        "id": "DInmHn8zakl7",
        "outputId": "b10fd009-b7af-470a-b145-e3f1c67ceaeb"
      },
      "source": [
        "file['occupation'].value_counts().plot(kind = 'bar')\n",
        "plt.rcParams['figure.figsize'] = (9,4)\n",
        "plt.xlabel('occupations')\n",
        "plt.ylabel('People')\n",
        "plt.title('Occupations')\n",
        "plt.grid()\n",
        "plt.show()"
      ],
      "execution_count": 28,
      "outputs": [
        {
          "output_type": "display_data",
          "data": {
            "image/png": "[encoded data removed]",
            "text/plain": [
              "<Figure size 648x288 with 1 Axes>"
            ]
          },
          "metadata": {
            "tags": [],
            "needs_background": "light"
          }
        }
      ]
    },
    {
      "cell_type": "code",
      "metadata": {
        "colab": {
          "base_uri": "https://localhost:8080/",
          "height": 354
        },
        "id": "DgUEFl6_giJn",
        "outputId": "45f5aeeb-ed02-4cd9-894a-ce26cf2ebe8d"
      },
      "source": [
        "file['relationship'].value_counts().plot(kind = 'bar')\n",
        "plt.rcParams['figure.figsize'] = (5,4)\n",
        "plt.xlabel('Relationship status')\n",
        "plt.ylabel('People')\n",
        "plt.title('Relationship Status')\n",
        "plt.grid()\n",
        "plt.show()"
      ],
      "execution_count": 30,
      "outputs": [
        {
          "output_type": "display_data",
          "data": {
            "image/png": "[encoded data removed]",
            "text/plain": [
              "<Figure size 360x288 with 1 Axes>"
            ]
          },
          "metadata": {
            "tags": [],
            "needs_background": "light"
          }
        }
      ]
    },
    {
      "cell_type": "code",
      "metadata": {
        "colab": {
          "base_uri": "https://localhost:8080/",
          "height": 437
        },
        "id": "o_JMbJhHe6W4",
        "outputId": "6335f0b4-507d-4098-b5d4-d766432c1405"
      },
      "source": [
        "file['race'].value_counts().plot(kind = 'pie')\n",
        "plt.rcParams['figure.figsize'] = (7,10)\n",
        "plt.title('Race')\n",
        "plt.show()"
      ],
      "execution_count": 26,
      "outputs": [
        {
          "output_type": "display_data",
          "data": {
            "image/png": "[encoded data removed]",
            "text/plain": [
              "<Figure size 504x720 with 1 Axes>"
            ]
          },
          "metadata": {
            "tags": []
          }
        }
      ]
    },
    {
      "cell_type": "code",
      "metadata": {
        "colab": {
          "base_uri": "https://localhost:8080/",
          "height": 437
        },
        "id": "OZ4uN7VUhyiH",
        "outputId": "367ff7c5-55c9-476c-d72c-390175da13c4"
      },
      "source": [
        "file['sex'].value_counts().plot(kind = 'pie')\n",
        "plt.rcParams['figure.figsize'] = (7,10)\n",
        "plt.title('Sex')\n",
        "plt.show()"
      ],
      "execution_count": 19,
      "outputs": [
        {
          "output_type": "display_data",
          "data": {
            "image/png": "[encoded data removed]",
            "text/plain": [
              "<Figure size 504x720 with 1 Axes>"
            ]
          },
          "metadata": {
            "tags": []
          }
        }
      ]
    },
    {
      "cell_type": "code",
      "metadata": {
        "colab": {
          "base_uri": "https://localhost:8080/",
          "height": 320
        },
        "id": "UME68OUyh_VB",
        "outputId": "91add98d-432d-468a-8c9b-2c5ff10a8b7e"
      },
      "source": [
        "plt.boxplot(file['hours-per-week'])\n",
        "plt.rcParams['figure.figsize'] = (4,5)\n",
        "plt.show()"
      ],
      "execution_count": 24,
      "outputs": [
        {
          "output_type": "display_data",
          "data": {
            "image/png": "[encoded data removed]",
            "text/plain": [
              "<Figure size 288x360 with 1 Axes>"
            ]
          },
          "metadata": {
            "tags": [],
            "needs_background": "light"
          }
        }
      ]
    },
    {
      "cell_type": "code",
      "metadata": {
        "colab": {
          "base_uri": "https://localhost:8080/",
          "height": 429
        },
        "id": "cPY1MiHUatbC",
        "outputId": "d45eb4ec-01a5-4d5c-c190-dc6a76e96dd5"
      },
      "source": [
        "file['native-country'].value_counts().plot(kind = 'bar')\n",
        "plt.rcParams['figure.figsize'] = (15,4)\n",
        "plt.xlabel('country')\n",
        "plt.ylabel('People')\n",
        "plt.title('Native country')\n",
        "plt.show()"
      ],
      "execution_count": 22,
      "outputs": [
        {
          "output_type": "display_data",
          "data": {
            "image/png": "[encoded data removed]",
            "text/plain": [
              "<Figure size 1080x288 with 1 Axes>"
            ]
          },
          "metadata": {
            "tags": [],
            "needs_background": "light"
          }
        }
      ]
    },
    {
      "cell_type": "markdown",
      "metadata": {
        "id": "IkzNv3S-7uA-"
      },
      "source": [
        "**Pre-processing of dataset**"
      ]
    },
    {
      "cell_type": "code",
      "metadata": {
        "id": "3TlOBa3oBWap"
      },
      "source": [
        "target = file.pop('salary')\n",
        "#Extracted and defined the target"
      ],
      "execution_count": 37,
      "outputs": []
    },
    {
      "cell_type": "code",
      "metadata": {
        "colab": {
          "base_uri": "https://localhost:8080/"
        },
        "id": "d1ZnMuWd7DSy",
        "outputId": "7cb31e94-fbce-45fb-b885-cbe1db8102b7"
      },
      "source": [
        "character_columns = file.dtypes.pipe(lambda x: x[x == 'object']).index\n",
        "character_columns\n",
        "#Extracting columns having character values"
      ],
      "execution_count": 38,
      "outputs": [
        {
          "output_type": "execute_result",
          "data": {
            "text/plain": [
              "Index(['workclass', 'education', 'marital-status', 'occupation',\n",
              "       'relationship', 'race', 'sex', 'native-country'],\n",
              "      dtype='object')"
            ]
          },
          "metadata": {
            "tags": []
          },
          "execution_count": 38
        }
      ]
    },
    {
      "cell_type": "code",
      "metadata": {
        "colab": {
          "base_uri": "https://localhost:8080/",
          "height": 195
        },
        "id": "Ae9d8I6-88xk",
        "outputId": "6c9406bf-ea0d-4c90-965d-f44e4adf5975"
      },
      "source": [
        "label_mapping ={}\n",
        "for col in character_columns:\n",
        "  file[col], label_mapping[col] = pd.factorize(file[col])\n",
        "#converting these character values to numeric values\n",
        "file.head()"
      ],
      "execution_count": 39,
      "outputs": [
        {
          "output_type": "execute_result",
          "data": {
            "text/html": [
              "<div>\n",
              "<style scoped>\n",
              "    .dataframe tbody tr th:only-of-type {\n",
              "        vertical-align: middle;\n",
              "    }\n",
              "\n",
              "    .dataframe tbody tr th {\n",
              "        vertical-align: top;\n",
              "    }\n",
              "\n",
              "    .dataframe thead th {\n",
              "        text-align: right;\n",
              "    }\n",
              "</style>\n",
              "<table border=\"1\" class=\"dataframe\">\n",
              "  <thead>\n",
              "    <tr style=\"text-align: right;\">\n",
              "      <th></th>\n",
              "      <th>age</th>\n",
              "      <th>workclass</th>\n",
              "      <th>education</th>\n",
              "      <th>marital-status</th>\n",
              "      <th>occupation</th>\n",
              "      <th>relationship</th>\n",
              "      <th>race</th>\n",
              "      <th>sex</th>\n",
              "      <th>hours-per-week</th>\n",
              "      <th>native-country</th>\n",
              "    </tr>\n",
              "  </thead>\n",
              "  <tbody>\n",
              "    <tr>\n",
              "      <th>0</th>\n",
              "      <td>39</td>\n",
              "      <td>0</td>\n",
              "      <td>0</td>\n",
              "      <td>0</td>\n",
              "      <td>0</td>\n",
              "      <td>0</td>\n",
              "      <td>0</td>\n",
              "      <td>0</td>\n",
              "      <td>40</td>\n",
              "      <td>0</td>\n",
              "    </tr>\n",
              "    <tr>\n",
              "      <th>1</th>\n",
              "      <td>50</td>\n",
              "      <td>1</td>\n",
              "      <td>0</td>\n",
              "      <td>1</td>\n",
              "      <td>1</td>\n",
              "      <td>1</td>\n",
              "      <td>0</td>\n",
              "      <td>0</td>\n",
              "      <td>13</td>\n",
              "      <td>0</td>\n",
              "    </tr>\n",
              "    <tr>\n",
              "      <th>2</th>\n",
              "      <td>38</td>\n",
              "      <td>2</td>\n",
              "      <td>1</td>\n",
              "      <td>2</td>\n",
              "      <td>2</td>\n",
              "      <td>0</td>\n",
              "      <td>0</td>\n",
              "      <td>0</td>\n",
              "      <td>40</td>\n",
              "      <td>0</td>\n",
              "    </tr>\n",
              "    <tr>\n",
              "      <th>3</th>\n",
              "      <td>53</td>\n",
              "      <td>2</td>\n",
              "      <td>2</td>\n",
              "      <td>1</td>\n",
              "      <td>2</td>\n",
              "      <td>1</td>\n",
              "      <td>1</td>\n",
              "      <td>0</td>\n",
              "      <td>40</td>\n",
              "      <td>0</td>\n",
              "    </tr>\n",
              "    <tr>\n",
              "      <th>4</th>\n",
              "      <td>28</td>\n",
              "      <td>2</td>\n",
              "      <td>0</td>\n",
              "      <td>1</td>\n",
              "      <td>3</td>\n",
              "      <td>2</td>\n",
              "      <td>1</td>\n",
              "      <td>1</td>\n",
              "      <td>40</td>\n",
              "      <td>1</td>\n",
              "    </tr>\n",
              "  </tbody>\n",
              "</table>\n",
              "</div>"
            ],
            "text/plain": [
              "   age  workclass  education  ...  sex  hours-per-week  native-country\n",
              "0   39          0          0  ...    0              40               0\n",
              "1   50          1          0  ...    0              13               0\n",
              "2   38          2          1  ...    0              40               0\n",
              "3   53          2          2  ...    0              40               0\n",
              "4   28          2          0  ...    1              40               1\n",
              "\n",
              "[5 rows x 10 columns]"
            ]
          },
          "metadata": {
            "tags": []
          },
          "execution_count": 39
        }
      ]
    },
    {
      "cell_type": "markdown",
      "metadata": {
        "id": "9XSnjtJZ-cuc"
      },
      "source": [
        "**Training the model**"
      ]
    },
    {
      "cell_type": "code",
      "metadata": {
        "id": "2fTdN6zu-EiN"
      },
      "source": [
        "#Here in our target we have 2 classes <=50 and >50\n",
        "#Hence we need to use a binary classifier\n",
        "#So we will use logistic regression\n",
        "\n",
        "#normalizing the data\n",
        "scaler = StandardScaler()  #we scale the data for larger values not affecting the smaller values\n",
        "file = scaler.fit_transform(file.values)"
      ],
      "execution_count": 40,
      "outputs": []
    },
    {
      "cell_type": "code",
      "metadata": {
        "colab": {
          "base_uri": "https://localhost:8080/"
        },
        "id": "oJ3EZqAvAfu1",
        "outputId": "e16eaae6-d9cd-45b1-dd73-4ca7c7d10438"
      },
      "source": [
        "#split the data\n",
        "x_train, x_test, y_train, y_test = train_test_split(file,target,test_size = 0.3, random_state = 42)\n",
        "#Train the model\n",
        "classifier = LogisticRegression().fit(x_train, y_train)\n",
        "prediction = classifier.predict(x_test)\n",
        "\n",
        "print(\"---- Training complete-----\")"
      ],
      "execution_count": 41,
      "outputs": [
        {
          "output_type": "stream",
          "text": [
            "---- Training complete-----\n"
          ],
          "name": "stdout"
        }
      ]
    },
    {
      "cell_type": "code",
      "metadata": {
        "colab": {
          "base_uri": "https://localhost:8080/"
        },
        "id": "KRJSFwMmBHmy",
        "outputId": "792d8672-e058-416b-c48c-1cfd35ab0f13"
      },
      "source": [
        "#generate report\n",
        "print(classification_report(y_test, prediction))"
      ],
      "execution_count": 42,
      "outputs": [
        {
          "output_type": "stream",
          "text": [
            "              precision    recall  f1-score   support\n",
            "\n",
            "       <=50K       0.80      0.94      0.86      7455\n",
            "        >50K       0.55      0.24      0.33      2314\n",
            "\n",
            "    accuracy                           0.77      9769\n",
            "   macro avg       0.68      0.59      0.60      9769\n",
            "weighted avg       0.74      0.77      0.74      9769\n",
            "\n"
          ],
          "name": "stdout"
        }
      ]
    },
    {
      "cell_type": "markdown",
      "metadata": {
        "id": "F5Mb-i7DQJNv"
      },
      "source": [
        "**Hyper Parameter Tuning**"
      ]
    },
    {
      "cell_type": "code",
      "metadata": {
        "colab": {
          "base_uri": "https://localhost:8080/"
        },
        "id": "O2o37P_jGbrI",
        "outputId": "4325e750-6f05-479b-f692-ef59e47fa0c2"
      },
      "source": [
        "# example of grid searching key hyperparametres for logistic regression\n",
        "from sklearn.datasets import make_blobs\n",
        "from sklearn.model_selection import RepeatedStratifiedKFold\n",
        "from sklearn.model_selection import GridSearchCV\n",
        "from sklearn.linear_model import LogisticRegression\n",
        "# define dataset\n",
        "X, y = make_blobs(n_samples=1000, centers=2, n_features=100, cluster_std=20)\n",
        "# define models and parameters\n",
        "model = LogisticRegression()\n",
        "solvers = ['newton-cg', 'lbfgs', 'liblinear']\n",
        "penalty = ['l2']\n",
        "c_values = [100, 10, 1.0, 0.1, 0.01]\n",
        "# define grid search\n",
        "grid = dict(solver=solvers,penalty=penalty,C=c_values)\n",
        "cv = RepeatedStratifiedKFold(n_splits=10, n_repeats=3, random_state=1)\n",
        "grid_search = GridSearchCV(estimator=model, param_grid=grid, n_jobs=-1, cv=cv, scoring='accuracy',error_score=0)\n",
        "grid_result = grid_search.fit(X, y)\n",
        "# summarize results\n",
        "print(\"Best: %f using %s\" % (grid_result.best_score_, grid_result.best_params_))\n",
        "means = grid_result.cv_results_['mean_test_score']\n",
        "stds = grid_result.cv_results_['std_test_score']\n",
        "params = grid_result.cv_results_['params']\n",
        "for mean, stdev, param in zip(means, stds, params):\n",
        "    print(\"%f (%f) with: %r\" % (mean, stdev, param))"
      ],
      "execution_count": 48,
      "outputs": [
        {
          "output_type": "stream",
          "text": [
            "Best: 0.936333 using {'C': 0.01, 'penalty': 'l2', 'solver': 'newton-cg'}\n",
            "0.928000 (0.024549) with: {'C': 100, 'penalty': 'l2', 'solver': 'newton-cg'}\n",
            "0.930333 (0.025493) with: {'C': 100, 'penalty': 'l2', 'solver': 'lbfgs'}\n",
            "0.929000 (0.026752) with: {'C': 100, 'penalty': 'l2', 'solver': 'liblinear'}\n",
            "0.928000 (0.024413) with: {'C': 10, 'penalty': 'l2', 'solver': 'newton-cg'}\n",
            "0.931333 (0.026424) with: {'C': 10, 'penalty': 'l2', 'solver': 'lbfgs'}\n",
            "0.930000 (0.025949) with: {'C': 10, 'penalty': 'l2', 'solver': 'liblinear'}\n",
            "0.929000 (0.024406) with: {'C': 1.0, 'penalty': 'l2', 'solver': 'newton-cg'}\n",
            "0.928667 (0.028721) with: {'C': 1.0, 'penalty': 'l2', 'solver': 'lbfgs'}\n",
            "0.931333 (0.026043) with: {'C': 1.0, 'penalty': 'l2', 'solver': 'liblinear'}\n",
            "0.932667 (0.025811) with: {'C': 0.1, 'penalty': 'l2', 'solver': 'newton-cg'}\n",
            "0.931333 (0.022910) with: {'C': 0.1, 'penalty': 'l2', 'solver': 'lbfgs'}\n",
            "0.932667 (0.026575) with: {'C': 0.1, 'penalty': 'l2', 'solver': 'liblinear'}\n",
            "0.936333 (0.023872) with: {'C': 0.01, 'penalty': 'l2', 'solver': 'newton-cg'}\n",
            "0.936333 (0.023872) with: {'C': 0.01, 'penalty': 'l2', 'solver': 'lbfgs'}\n",
            "0.934000 (0.023036) with: {'C': 0.01, 'penalty': 'l2', 'solver': 'liblinear'}\n"
          ],
          "name": "stdout"
        }
      ]
    },
    {
      "cell_type": "code",
      "metadata": {
        "colab": {
          "base_uri": "https://localhost:8080/"
        },
        "id": "Wp9XclfBHvBi",
        "outputId": "89ec1719-7827-4d95-bd4a-f2dacf64db54"
      },
      "source": [
        "classifier = LogisticRegression(penalty = grid_result.best_params_['penalty'], C = grid_result.best_params_['C'], solver = grid_result.best_params_['solver']).fit(x_train, y_train)\n",
        "prediction = classifier.predict(x_test)\n",
        "\n",
        "print(\"---- Training complete-----\")"
      ],
      "execution_count": 49,
      "outputs": [
        {
          "output_type": "stream",
          "text": [
            "---- Training complete-----\n"
          ],
          "name": "stdout"
        }
      ]
    },
    {
      "cell_type": "code",
      "metadata": {
        "colab": {
          "base_uri": "https://localhost:8080/"
        },
        "id": "Vx_dHKbiMMaj",
        "outputId": "8058af37-8488-4c1d-ab34-9074b221e719"
      },
      "source": [
        "#generate report\n",
        "print(classification_report(y_test, prediction))"
      ],
      "execution_count": 50,
      "outputs": [
        {
          "output_type": "stream",
          "text": [
            "              precision    recall  f1-score   support\n",
            "\n",
            "       <=50K       0.80      0.94      0.86      7455\n",
            "        >50K       0.56      0.23      0.32      2314\n",
            "\n",
            "    accuracy                           0.77      9769\n",
            "   macro avg       0.68      0.59      0.59      9769\n",
            "weighted avg       0.74      0.77      0.74      9769\n",
            "\n"
          ],
          "name": "stdout"
        }
      ]
    },
    {
      "cell_type": "markdown",
      "metadata": {
        "id": "ciwe7ahjQQ6R"
      },
      "source": [
        "**Testing on a Particular Case**"
      ]
    },
    {
      "cell_type": "code",
      "metadata": {
        "colab": {
          "base_uri": "https://localhost:8080/"
        },
        "id": "K6kCn3-5P7Sk",
        "outputId": "ee4a170f-d947-4544-992f-34e2d17e2649"
      },
      "source": [
        "#generate a particular test data\n",
        "test_data = []\n",
        "test_data.append(int(input('Enter the age : ')))\n",
        "test_data.append(input('Enter the work-class : '))\n",
        "test_data.append(input('Enter the education level : '))\n",
        "test_data.append(input('Enter the marital-status : '))\n",
        "test_data.append(input('Enter the occupation : '))\n",
        "test_data.append(input('Enter the relationship status : '))\n",
        "test_data.append(input('Enter the race : '))\n",
        "test_data.append(input('Enter the sex : '))\n",
        "test_data.append(int(input('Enter the no. of hours he/she work per week : ')))\n",
        "test_data.append(input('Enter the native-country : '))"
      ],
      "execution_count": 53,
      "outputs": [
        {
          "output_type": "stream",
          "text": [
            "Enter the age : 26\n",
            "Enter the work-class : Private\n",
            "Enter the education level : Bachelors\n",
            "Enter the marital-status : Never-married\n",
            "Enter the occupation : Armed-Forces\n",
            "Enter the relationship status : Unmarried\n",
            "Enter the race : White\n",
            "Enter the sex : Male\n",
            "Enter the no. of hours he/she work per week : 60\n",
            "Enter the native-country : United-States\n"
          ],
          "name": "stdout"
        }
      ]
    },
    {
      "cell_type": "code",
      "metadata": {
        "colab": {
          "base_uri": "https://localhost:8080/"
        },
        "id": "sUihPuHTP8N3",
        "outputId": "efc534b3-eed5-4d1d-e4dc-a9c1a0645c5b"
      },
      "source": [
        "#testing for this particular test data\n",
        "df = pd.DataFrame({'age' : [test_data[0]],\n",
        "                   'work-class' : [test_data[1]],\n",
        "                   'education' : [test_data[2]],\n",
        "                   'marital-status' : [test_data[3]],\n",
        "                   'occupation' : [test_data[4]],\n",
        "                   'relationship' : [test_data[5]],\n",
        "                   'race' : [test_data[6]],\n",
        "                   'sex' : [test_data[7]],\n",
        "                   'hours-per-week' : [test_data[8]],\n",
        "                   'native-country' : [test_data[9]]\n",
        "                   })\n",
        "character_data = df.dtypes.pipe(lambda x: x[x == 'object']).index\n",
        "test_label_mapping ={}\n",
        "for col in character_data:\n",
        "  df[col], test_label_mapping[col] = pd.factorize(df[col])\n",
        "test_scaler = StandardScaler()\n",
        "df = test_scaler.fit_transform(df.values)\n",
        "pred = classifier.predict(df)\n",
        "print(f\"The salary will be {pred[0]}\")"
      ],
      "execution_count": 58,
      "outputs": [
        {
          "output_type": "stream",
          "text": [
            "The salary will be <=50K\n"
          ],
          "name": "stdout"
        }
      ]
    }
  ]
}