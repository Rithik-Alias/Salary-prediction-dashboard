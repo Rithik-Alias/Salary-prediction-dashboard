{
  "nbformat": 4,
  "nbformat_minor": 0,
  "metadata": {
    "colab": {
      "name": "Salary_dashboard_using_nn.ipynb",
      "provenance": [],
      "collapsed_sections": []
    },
    "kernelspec": {
      "name": "python3",
      "display_name": "Python 3"
    },
    "language_info": {
      "name": "python"
    }
  },
  "cells": [
    {
      "cell_type": "code",
      "metadata": {
        "colab": {
          "base_uri": "https://localhost:8080/"
        },
        "id": "dsPieCUp5Yaf",
        "outputId": "ee4e53f8-09fd-4b92-bba1-dc687fa4b542"
      },
      "source": [
        "import pandas as pd\n",
        "from sklearn.preprocessing import StandardScaler\n",
        "\n",
        "df = pd.read_csv('salarydata.csv')\n",
        "df = df.drop(columns = ['capital-gain', 'capital-loss', 'education-num'])\n",
        "y_train = df.pop('salary')\n",
        "y_train = pd.factorize(y_train)[0]\n",
        "character_columns = df.dtypes.pipe(lambda x: x[x == 'object']).index\n",
        "label_mapping ={}\n",
        "for col in character_columns:\n",
        "  df[col], label_mapping[col] = pd.factorize(df[col])\n",
        "scaler = StandardScaler() \n",
        "x_train = scaler.fit_transform(df.values)\n",
        "x_train"
      ],
      "execution_count": 61,
      "outputs": [
        {
          "output_type": "execute_result",
          "data": {
            "text/plain": [
              "array([[ 0.03067056, -1.88460023, -0.99158435, ..., -0.70307135,\n",
              "        -0.03542945, -0.25574647],\n",
              "       [ 0.83710898, -1.0687461 , -0.99158435, ..., -0.70307135,\n",
              "        -2.22215312, -0.25574647],\n",
              "       [-0.04264203, -0.25289198, -0.70202542, ..., -0.70307135,\n",
              "        -0.03542945, -0.25574647],\n",
              "       ...,\n",
              "       [ 1.42360965, -0.25289198, -0.70202542, ...,  1.42233076,\n",
              "        -0.03542945, -0.25574647],\n",
              "       [-1.21564337, -0.25289198, -0.70202542, ..., -0.70307135,\n",
              "        -1.65522476, -0.25574647],\n",
              "       [ 0.98373415,  3.01052452, -0.70202542, ...,  1.42233076,\n",
              "        -0.03542945, -0.25574647]])"
            ]
          },
          "metadata": {
            "tags": []
          },
          "execution_count": 61
        }
      ]
    },
    {
      "cell_type": "code",
      "metadata": {
        "id": "1Yjn61LK45Ag"
      },
      "source": [
        "from tensorflow.keras.models import Sequential\n",
        "from tensorflow.keras.layers import Dense"
      ],
      "execution_count": 62,
      "outputs": []
    },
    {
      "cell_type": "code",
      "metadata": {
        "id": "EvyqaPcf66mr"
      },
      "source": [
        "model = Sequential()\n",
        "model.add(Dense(64, activation = 'relu'))\n",
        "model.add(Dense(1, activation = 'sigmoid'))\n",
        "model.compile(loss = 'binary_crossentropy',\n",
        "              optimizer = 'adam',\n",
        "              metrics = ['accuracy'])"
      ],
      "execution_count": 63,
      "outputs": []
    },
    {
      "cell_type": "code",
      "metadata": {
        "colab": {
          "base_uri": "https://localhost:8080/"
        },
        "id": "wNb02PSO8Vk4",
        "outputId": "3db8c29e-6014-4a8b-8d29-5f4a88e27ec0"
      },
      "source": [
        "model.fit(x_train, y_trainNum, batch_size=32, epochs=20, validation_split=0.1)"
      ],
      "execution_count": 64,
      "outputs": [
        {
          "output_type": "stream",
          "text": [
            "Epoch 1/20\n",
            "916/916 [==============================] - 2s 2ms/step - loss: 0.4470 - accuracy: 0.7778 - val_loss: 0.4169 - val_accuracy: 0.8063\n",
            "Epoch 2/20\n",
            "916/916 [==============================] - 1s 2ms/step - loss: 0.4020 - accuracy: 0.8018 - val_loss: 0.4066 - val_accuracy: 0.8081\n",
            "Epoch 3/20\n",
            "916/916 [==============================] - 1s 2ms/step - loss: 0.3943 - accuracy: 0.8067 - val_loss: 0.4037 - val_accuracy: 0.8109\n",
            "Epoch 4/20\n",
            "916/916 [==============================] - 1s 2ms/step - loss: 0.3914 - accuracy: 0.8089 - val_loss: 0.4018 - val_accuracy: 0.8127\n",
            "Epoch 5/20\n",
            "916/916 [==============================] - 1s 2ms/step - loss: 0.3897 - accuracy: 0.8093 - val_loss: 0.3997 - val_accuracy: 0.8133\n",
            "Epoch 6/20\n",
            "916/916 [==============================] - 1s 2ms/step - loss: 0.3882 - accuracy: 0.8122 - val_loss: 0.3992 - val_accuracy: 0.8106\n",
            "Epoch 7/20\n",
            "916/916 [==============================] - 1s 2ms/step - loss: 0.3866 - accuracy: 0.8120 - val_loss: 0.3980 - val_accuracy: 0.8130\n",
            "Epoch 8/20\n",
            "916/916 [==============================] - 1s 2ms/step - loss: 0.3849 - accuracy: 0.8133 - val_loss: 0.3967 - val_accuracy: 0.8155\n",
            "Epoch 9/20\n",
            "916/916 [==============================] - 1s 2ms/step - loss: 0.3829 - accuracy: 0.8148 - val_loss: 0.3958 - val_accuracy: 0.8179\n",
            "Epoch 10/20\n",
            "916/916 [==============================] - 1s 2ms/step - loss: 0.3807 - accuracy: 0.8171 - val_loss: 0.3955 - val_accuracy: 0.8176\n",
            "Epoch 11/20\n",
            "916/916 [==============================] - 1s 1ms/step - loss: 0.3784 - accuracy: 0.8178 - val_loss: 0.3920 - val_accuracy: 0.8152\n",
            "Epoch 12/20\n",
            "916/916 [==============================] - 1s 2ms/step - loss: 0.3763 - accuracy: 0.8203 - val_loss: 0.3894 - val_accuracy: 0.8179\n",
            "Epoch 13/20\n",
            "916/916 [==============================] - 1s 2ms/step - loss: 0.3743 - accuracy: 0.8207 - val_loss: 0.3895 - val_accuracy: 0.8149\n",
            "Epoch 14/20\n",
            "916/916 [==============================] - 1s 2ms/step - loss: 0.3726 - accuracy: 0.8230 - val_loss: 0.3883 - val_accuracy: 0.8185\n",
            "Epoch 15/20\n",
            "916/916 [==============================] - 1s 2ms/step - loss: 0.3708 - accuracy: 0.8233 - val_loss: 0.3858 - val_accuracy: 0.8182\n",
            "Epoch 16/20\n",
            "916/916 [==============================] - 1s 2ms/step - loss: 0.3696 - accuracy: 0.8251 - val_loss: 0.3862 - val_accuracy: 0.8161\n",
            "Epoch 17/20\n",
            "916/916 [==============================] - 1s 2ms/step - loss: 0.3680 - accuracy: 0.8242 - val_loss: 0.3841 - val_accuracy: 0.8189\n",
            "Epoch 18/20\n",
            "916/916 [==============================] - 1s 2ms/step - loss: 0.3669 - accuracy: 0.8260 - val_loss: 0.3854 - val_accuracy: 0.8167\n",
            "Epoch 19/20\n",
            "916/916 [==============================] - 2s 2ms/step - loss: 0.3661 - accuracy: 0.8253 - val_loss: 0.3818 - val_accuracy: 0.8210\n",
            "Epoch 20/20\n",
            "916/916 [==============================] - 1s 2ms/step - loss: 0.3648 - accuracy: 0.8271 - val_loss: 0.3803 - val_accuracy: 0.8198\n"
          ],
          "name": "stdout"
        },
        {
          "output_type": "execute_result",
          "data": {
            "text/plain": [
              "<tensorflow.python.keras.callbacks.History at 0x7f8d2eadcc50>"
            ]
          },
          "metadata": {
            "tags": []
          },
          "execution_count": 64
        }
      ]
    }
  ]
}